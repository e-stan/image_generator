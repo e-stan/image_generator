{
  "nbformat": 4,
  "nbformat_minor": 0,
  "metadata": {
    "kernelspec": {
      "display_name": "Python 3",
      "language": "python",
      "name": "python3"
    },
    "language_info": {
      "codemirror_mode": {
        "name": "ipython",
        "version": 2
      },
      "file_extension": ".py",
      "mimetype": "text/x-python",
      "name": "python",
      "nbconvert_exporter": "python",
      "pygments_lexer": "ipython2",
      "version": "2.7.6"
    },
    "colab": {
      "name": "train_model.ipynb",
      "provenance": []
    }
  },
  "cells": [
    {
      "cell_type": "code",
      "metadata": {
        "collapsed": true,
        "id": "4gsyuWfCulx_"
      },
      "source": [
        ""
      ],
      "execution_count": null,
      "outputs": []
    },
    {
      "cell_type": "code",
      "metadata": {
        "pycharm": {
          "name": "#%%\n"
        },
        "id": "pIt2jy7KulyA"
      },
      "source": [
        "from dataset_helper import *\n",
        "from imageVAE import *\n",
        "import os\n",
        "\n",
        "import matplotlib.pyplot as plt"
      ],
      "execution_count": 1,
      "outputs": []
    },
    {
      "cell_type": "code",
      "metadata": {
        "pycharm": {
          "name": "#%%\n"
        },
        "id": "FhXFCUvHulyB"
      },
      "source": [
        "names = [\"../data/skyline_images/\" + x for x in os.listdir(\"../data/skyline_images/\") if \".jpg\" in x][:10]\n",
        "names = cleanImageFiles(names)"
      ],
      "execution_count": null,
      "outputs": []
    },
    {
      "cell_type": "code",
      "metadata": {
        "pycharm": {
          "name": "#%%\n"
        },
        "id": "VeBTz5-lulyC"
      },
      "source": [
        "dim = (256,256,3)\n",
        "batchsize=128\n",
        "epochs = 5\n",
        "latentDim = 100\n",
        "stride = 2\n",
        "arch = [32,64,64]\n",
        "\n",
        "archRev = list(arch)\n",
        "archRev.reverse()\n"
      ],
      "execution_count": 3,
      "outputs": []
    },
    {
      "cell_type": "code",
      "metadata": {
        "pycharm": {
          "name": "#%%\n"
        },
        "id": "tnCTJAGfulyD",
        "outputId": "cd86aa06-36f0-489f-e743-5b483ce500ac",
        "colab": {
          "base_uri": "https://localhost:8080/"
        }
      },
      "source": [
        "vae = ImageVAE(dim,arch,archRev,latent_dim=latentDim,stride=stride)\n",
        "\n",
        "vae.compile(optimizer=keras.optimizers.Adam(),run_eagerly=True)"
      ],
      "execution_count": 4,
      "outputs": [
        {
          "output_type": "stream",
          "text": [
            "(256, 256, 3)\n",
            "Model: \"encoder\"\n",
            "__________________________________________________________________________________________________\n",
            "Layer (type)                    Output Shape         Param #     Connected to                     \n",
            "==================================================================================================\n",
            "input_1 (InputLayer)            [(None, 256, 256, 3) 0                                            \n",
            "__________________________________________________________________________________________________\n",
            "conv2d (Conv2D)                 (None, 128, 128, 32) 864         input_1[0][0]                    \n",
            "__________________________________________________________________________________________________\n",
            "conv2d_1 (Conv2D)               (None, 64, 64, 64)   18432       conv2d[0][0]                     \n",
            "__________________________________________________________________________________________________\n",
            "conv2d_2 (Conv2D)               (None, 32, 32, 64)   36864       conv2d_1[0][0]                   \n",
            "__________________________________________________________________________________________________\n",
            "flatten (Flatten)               (None, 65536)        0           conv2d_2[0][0]                   \n",
            "__________________________________________________________________________________________________\n",
            "z_mean (Dense)                  (None, 100)          6553700     flatten[0][0]                    \n",
            "__________________________________________________________________________________________________\n",
            "z_log_var (Dense)               (None, 100)          6553700     flatten[0][0]                    \n",
            "__________________________________________________________________________________________________\n",
            "sampling (Sampling)             (None, 100)          0           z_mean[0][0]                     \n",
            "                                                                 z_log_var[0][0]                  \n",
            "==================================================================================================\n",
            "Total params: 13,163,560\n",
            "Trainable params: 13,163,560\n",
            "Non-trainable params: 0\n",
            "__________________________________________________________________________________________________\n",
            "Model: \"decoder\"\n",
            "_________________________________________________________________\n",
            "Layer (type)                 Output Shape              Param #   \n",
            "=================================================================\n",
            "input_2 (InputLayer)         [(None, 100)]             0         \n",
            "_________________________________________________________________\n",
            "dense (Dense)                (None, 65536)             6619136   \n",
            "_________________________________________________________________\n",
            "reshape (Reshape)            (None, 32, 32, 64)        0         \n",
            "_________________________________________________________________\n",
            "conv2d_transpose (Conv2DTran (None, 64, 64, 64)        36928     \n",
            "_________________________________________________________________\n",
            "conv2d_transpose_1 (Conv2DTr (None, 128, 128, 64)      36928     \n",
            "_________________________________________________________________\n",
            "conv2d_transpose_2 (Conv2DTr (None, 256, 256, 32)      18464     \n",
            "_________________________________________________________________\n",
            "conv2d_transpose_3 (Conv2DTr (None, 256, 256, 3)       867       \n",
            "=================================================================\n",
            "Total params: 6,712,323\n",
            "Trainable params: 6,712,323\n",
            "Non-trainable params: 0\n",
            "_________________________________________________________________\n"
          ],
          "name": "stdout"
        }
      ]
    },
    {
      "cell_type": "code",
      "metadata": {
        "pycharm": {
          "name": "#%%\n"
        },
        "id": "3b4RhGWvulyE"
      },
      "source": [
        "#data = getTrainingTensor(names,dim)\n",
        "data = np.load(\"data_tensor.npy\")\n",
        "#np.save(\"../data/skyline_images/data_tensor.npy\",data)\n",
        "#data = getImageGenerator(\"../data/\",\"skyline_images\", dim, batchsize)"
      ],
      "execution_count": 5,
      "outputs": []
    },
    {
      "cell_type": "code",
      "metadata": {
        "pycharm": {
          "name": "#%%\n"
        },
        "id": "WlVzd-mkulyF",
        "outputId": "6cb50136-ba9c-4d5e-da7b-6dade9f66ddf",
        "colab": {
          "base_uri": "https://localhost:8080/"
        }
      },
      "source": [
        "if __name__ == \"__main__\":\n",
        "    vae.fit(data, epochs=epochs,batch_size=batchsize,)\n",
        "    vae.save_weights(\"skyline_vae_100_2\")\n",
        "\n",
        "\n",
        "\n",
        "\n"
      ],
      "execution_count": 6,
      "outputs": [
        {
          "output_type": "stream",
          "text": [
            "Epoch 1/5\n",
            "1/1 [==============================] - 2s 2s/step - loss: 45427.7969 - reconstruction_loss: 45427.0703 - kl_loss: 0.7250\n",
            "Epoch 2/5\n",
            "1/1 [==============================] - 2s 2s/step - loss: 45512.2578 - reconstruction_loss: 45400.1055 - kl_loss: 112.1511\n",
            "Epoch 3/5\n",
            "1/1 [==============================] - 2s 2s/step - loss: 45362.6641 - reconstruction_loss: 45359.8672 - kl_loss: 2.7979\n",
            "Epoch 4/5\n",
            "1/1 [==============================] - 2s 2s/step - loss: 45327.5234 - reconstruction_loss: 45326.7617 - kl_loss: 0.7611\n",
            "Epoch 5/5\n",
            "1/1 [==============================] - 2s 2s/step - loss: 45277.8906 - reconstruction_loss: 45277.0391 - kl_loss: 0.8518\n"
          ],
          "name": "stdout"
        }
      ]
    },
    {
      "cell_type": "code",
      "metadata": {
        "pycharm": {
          "name": "#%%\n"
        },
        "id": "a17BZ9uRulyF"
      },
      "source": [
        ""
      ],
      "execution_count": null,
      "outputs": []
    }
  ]
}