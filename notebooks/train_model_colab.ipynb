{
  "nbformat": 4,
  "nbformat_minor": 0,
  "metadata": {
    "kernelspec": {
      "display_name": "Python 3",
      "language": "python",
      "name": "python3"
    },
    "language_info": {
      "codemirror_mode": {
        "name": "ipython",
        "version": 2
      },
      "file_extension": ".py",
      "mimetype": "text/x-python",
      "name": "python",
      "nbconvert_exporter": "python",
      "pygments_lexer": "ipython2",
      "version": "2.7.6"
    },
    "colab": {
      "name": "train_model.ipynb",
      "provenance": []
    },
    "accelerator": "GPU"
  },
  "cells": [
    {
      "cell_type": "code",
      "metadata": {
        "collapsed": true,
        "id": "4gsyuWfCulx_"
      },
      "source": [
        ""
      ],
      "execution_count": null,
      "outputs": []
    },
    {
      "cell_type": "code",
      "metadata": {
        "colab": {
          "base_uri": "https://localhost:8080/"
        },
        "id": "UH6Pt9Y9jbIz",
        "outputId": "c641ce97-abba-48d4-9af9-868b22e77f4f"
      },
      "source": [
        "from google.colab import drive\n",
        "drive.mount('/content/drive')"
      ],
      "execution_count": null,
      "outputs": [
        {
          "output_type": "stream",
          "text": [
            "Mounted at /content/drive\n"
          ],
          "name": "stdout"
        }
      ]
    },
    {
      "cell_type": "code",
      "metadata": {
        "pycharm": {
          "name": "#%%\n"
        },
        "id": "pIt2jy7KulyA"
      },
      "source": [
        "from dataset_helper import *\n",
        "from imageVAE import *\n",
        "import os\n",
        "import zipfile\n",
        "import matplotlib.pyplot as plt"
      ],
      "execution_count": null,
      "outputs": []
    },
    {
      "cell_type": "code",
      "metadata": {
        "id": "PCinfWCoxi18"
      },
      "source": [
        "zipfile.ZipFile(\"/content/drive/MyDrive/artdive/data/skyline_images.zip\", 'r').extractall(\"data/\")"
      ],
      "execution_count": null,
      "outputs": []
    },
    {
      "cell_type": "code",
      "metadata": {
        "pycharm": {
          "name": "#%%\n"
        },
        "id": "FhXFCUvHulyB"
      },
      "source": [
        "names = [\"data/skyline_images/\" + x for x in os.listdir(\"data/skyline_images/\") if \".jpg\" in x]\n",
        "#names = cleanImageFiles(names)"
      ],
      "execution_count": null,
      "outputs": []
    },
    {
      "cell_type": "code",
      "metadata": {
        "pycharm": {
          "name": "#%%\n"
        },
        "id": "VeBTz5-lulyC"
      },
      "source": [
        "dim = (256,256,3)\n",
        "batchsize=32\n",
        "epochs = 10\n",
        "latentDim = 1500\n",
        "stride = 2\n",
        "arch = [64,128,64,64,64]\n",
        "\n",
        "archRev = list(arch)\n",
        "archRev.reverse()\n"
      ],
      "execution_count": 11,
      "outputs": []
    },
    {
      "cell_type": "code",
      "metadata": {
        "pycharm": {
          "name": "#%%\n"
        },
        "id": "tnCTJAGfulyD",
        "colab": {
          "base_uri": "https://localhost:8080/"
        },
        "outputId": "f70e9ac1-6fcb-4d31-9056-47c4694372c4"
      },
      "source": [
        "vae = ImageVAE(dim,arch,archRev,latent_dim=latentDim,stride=stride)\n",
        "\n",
        "vae.compile(optimizer=keras.optimizers.Adam(),run_eagerly=True)"
      ],
      "execution_count": 12,
      "outputs": [
        {
          "output_type": "stream",
          "text": [
            "(256, 256, 3)\n",
            "Model: \"encoder\"\n",
            "__________________________________________________________________________________________________\n",
            "Layer (type)                    Output Shape         Param #     Connected to                     \n",
            "==================================================================================================\n",
            "input_5 (InputLayer)            [(None, 256, 256, 3) 0                                            \n",
            "__________________________________________________________________________________________________\n",
            "conv2d_11 (Conv2D)              (None, 128, 128, 64) 1728        input_5[0][0]                    \n",
            "__________________________________________________________________________________________________\n",
            "conv2d_12 (Conv2D)              (None, 64, 64, 128)  73728       conv2d_11[0][0]                  \n",
            "__________________________________________________________________________________________________\n",
            "conv2d_13 (Conv2D)              (None, 32, 32, 64)   73728       conv2d_12[0][0]                  \n",
            "__________________________________________________________________________________________________\n",
            "conv2d_14 (Conv2D)              (None, 16, 16, 64)   36864       conv2d_13[0][0]                  \n",
            "__________________________________________________________________________________________________\n",
            "conv2d_15 (Conv2D)              (None, 8, 8, 64)     36864       conv2d_14[0][0]                  \n",
            "__________________________________________________________________________________________________\n",
            "flatten_2 (Flatten)             (None, 4096)         0           conv2d_15[0][0]                  \n",
            "__________________________________________________________________________________________________\n",
            "z_mean (Dense)                  (None, 1500)         6145500     flatten_2[0][0]                  \n",
            "__________________________________________________________________________________________________\n",
            "z_log_var (Dense)               (None, 1500)         6145500     flatten_2[0][0]                  \n",
            "__________________________________________________________________________________________________\n",
            "sampling_2 (Sampling)           (None, 1500)         0           z_mean[0][0]                     \n",
            "                                                                 z_log_var[0][0]                  \n",
            "==================================================================================================\n",
            "Total params: 12,513,912\n",
            "Trainable params: 12,513,912\n",
            "Non-trainable params: 0\n",
            "__________________________________________________________________________________________________\n",
            "Model: \"decoder\"\n",
            "_________________________________________________________________\n",
            "Layer (type)                 Output Shape              Param #   \n",
            "=================================================================\n",
            "input_6 (InputLayer)         [(None, 1500)]            0         \n",
            "_________________________________________________________________\n",
            "dense_2 (Dense)              (None, 4096)              6148096   \n",
            "_________________________________________________________________\n",
            "reshape_2 (Reshape)          (None, 8, 8, 64)          0         \n",
            "_________________________________________________________________\n",
            "conv2d_transpose_13 (Conv2DT (None, 16, 16, 64)        36928     \n",
            "_________________________________________________________________\n",
            "conv2d_transpose_14 (Conv2DT (None, 32, 32, 64)        36928     \n",
            "_________________________________________________________________\n",
            "conv2d_transpose_15 (Conv2DT (None, 64, 64, 64)        36928     \n",
            "_________________________________________________________________\n",
            "conv2d_transpose_16 (Conv2DT (None, 128, 128, 128)     73856     \n",
            "_________________________________________________________________\n",
            "conv2d_transpose_17 (Conv2DT (None, 256, 256, 64)      73792     \n",
            "_________________________________________________________________\n",
            "conv2d_transpose_18 (Conv2DT (None, 256, 256, 3)       1731      \n",
            "=================================================================\n",
            "Total params: 6,408,259\n",
            "Trainable params: 6,408,259\n",
            "Non-trainable params: 0\n",
            "_________________________________________________________________\n"
          ],
          "name": "stdout"
        }
      ]
    },
    {
      "cell_type": "code",
      "metadata": {
        "pycharm": {
          "name": "#%%\n"
        },
        "id": "3b4RhGWvulyE",
        "colab": {
          "base_uri": "https://localhost:8080/"
        },
        "outputId": "f3ae3346-9984-4ac5-8882-4483cf3964b8"
      },
      "source": [
        "#data = getTrainingTensor(names,dim)\n",
        "#data = np.load(\"data_tensor.npy\")\n",
        "#np.save(\"../data/skyline_images/data_tensor.npy\",data)\n",
        "data = getImageGenerator(\"data/\",\"skyline_images\", dim, batchsize)"
      ],
      "execution_count": 13,
      "outputs": [
        {
          "output_type": "stream",
          "text": [
            "Found 123121 images belonging to 1 classes.\n"
          ],
          "name": "stdout"
        }
      ]
    },
    {
      "cell_type": "code",
      "metadata": {
        "pycharm": {
          "name": "#%%\n"
        },
        "id": "WlVzd-mkulyF",
        "colab": {
          "base_uri": "https://localhost:8080/"
        },
        "outputId": "bb956133-f83e-4439-86b5-36704487adcd"
      },
      "source": [
        "if __name__ == \"__main__\":\n",
        "    vae.fit(data, epochs=epochs,batch_size=batchsize,)\n",
        "    vae.save_weights(\"/content/drive/MyDrive/artdive/models/skyline_vae_100_3\")\n",
        "\n",
        "\n",
        "\n",
        "\n"
      ],
      "execution_count": null,
      "outputs": [
        {
          "output_type": "stream",
          "text": [
            "Epoch 1/10\n",
            "  73/3848 [..............................] - ETA: 12:04 - loss: 43706.2720 - reconstruction_loss: 42111.4023 - kl_loss: 101.2786"
          ],
          "name": "stdout"
        }
      ]
    },
    {
      "cell_type": "code",
      "metadata": {
        "pycharm": {
          "name": "#%%\n"
        },
        "id": "a17BZ9uRulyF"
      },
      "source": [
        ""
      ],
      "execution_count": null,
      "outputs": []
    }
  ]
}