{
  "nbformat": 4,
  "nbformat_minor": 0,
  "metadata": {
    "kernelspec": {
      "display_name": "Python 3",
      "language": "python",
      "name": "python3"
    },
    "language_info": {
      "codemirror_mode": {
        "name": "ipython",
        "version": 2
      },
      "file_extension": ".py",
      "mimetype": "text/x-python",
      "name": "python",
      "nbconvert_exporter": "python",
      "pygments_lexer": "ipython2",
      "version": "2.7.6"
    },
    "colab": {
      "name": "train_model.ipynb",
      "provenance": []
    },
    "accelerator": "GPU"
  },
  "cells": [
    {
      "cell_type": "code",
      "metadata": {
        "collapsed": true,
        "id": "4gsyuWfCulx_"
      },
      "source": [
        ""
      ],
      "execution_count": null,
      "outputs": []
    },
    {
      "cell_type": "code",
      "metadata": {
        "id": "UH6Pt9Y9jbIz",
        "outputId": "c641ce97-abba-48d4-9af9-868b22e77f4f",
        "colab": {
          "base_uri": "https://localhost:8080/"
        }
      },
      "source": [
        "from google.colab import drive\n",
        "drive.mount('/content/drive')"
      ],
      "execution_count": 1,
      "outputs": [
        {
          "output_type": "stream",
          "text": [
            "Mounted at /content/drive\n"
          ],
          "name": "stdout"
        }
      ]
    },
    {
      "cell_type": "code",
      "metadata": {
        "pycharm": {
          "name": "#%%\n"
        },
        "id": "pIt2jy7KulyA"
      },
      "source": [
        "from dataset_helper import *\n",
        "from imageVAE import *\n",
        "import os\n",
        "import zipfile\n",
        "import matplotlib.pyplot as plt"
      ],
      "execution_count": 2,
      "outputs": []
    },
    {
      "cell_type": "code",
      "metadata": {
        "id": "PCinfWCoxi18"
      },
      "source": [
        "zipfile.ZipFile(\"/content/drive/MyDrive/artdive/data/skyline_images.zip\", 'r').extractall(\"data/\")"
      ],
      "execution_count": 3,
      "outputs": []
    },
    {
      "cell_type": "code",
      "metadata": {
        "pycharm": {
          "name": "#%%\n"
        },
        "id": "FhXFCUvHulyB"
      },
      "source": [
        "names = [\"data/skyline_images/\" + x for x in os.listdir(\"data/skyline_images/\") if \".jpg\" in x]\n",
        "#names = cleanImageFiles(names)"
      ],
      "execution_count": 4,
      "outputs": []
    },
    {
      "cell_type": "code",
      "metadata": {
        "pycharm": {
          "name": "#%%\n"
        },
        "id": "VeBTz5-lulyC"
      },
      "source": [
        "dim = (256,256,3)\n",
        "batchsize=32\n",
        "epochs = 10\n",
        "latentDim = 1000\n",
        "stride = 2\n",
        "arch = [32,64,64,64,32]\n",
        "\n",
        "archRev = list(arch)\n",
        "archRev.reverse()\n"
      ],
      "execution_count": 6,
      "outputs": []
    },
    {
      "cell_type": "code",
      "metadata": {
        "pycharm": {
          "name": "#%%\n"
        },
        "id": "tnCTJAGfulyD",
        "colab": {
          "base_uri": "https://localhost:8080/"
        },
        "outputId": "f96c5957-098f-400c-c53b-92c9dbf1aef6"
      },
      "source": [
        "vae = ImageVAE(dim,arch,archRev,latent_dim=latentDim,stride=stride)\n",
        "\n",
        "vae.compile(optimizer=keras.optimizers.Adam(),run_eagerly=True)"
      ],
      "execution_count": 7,
      "outputs": [
        {
          "output_type": "stream",
          "text": [
            "(256, 256, 3)\n",
            "Model: \"encoder\"\n",
            "__________________________________________________________________________________________________\n",
            "Layer (type)                    Output Shape         Param #     Connected to                     \n",
            "==================================================================================================\n",
            "input_1 (InputLayer)            [(None, 256, 256, 3) 0                                            \n",
            "__________________________________________________________________________________________________\n",
            "conv2d (Conv2D)                 (None, 128, 128, 32) 864         input_1[0][0]                    \n",
            "__________________________________________________________________________________________________\n",
            "conv2d_1 (Conv2D)               (None, 64, 64, 64)   18432       conv2d[0][0]                     \n",
            "__________________________________________________________________________________________________\n",
            "conv2d_2 (Conv2D)               (None, 32, 32, 64)   36864       conv2d_1[0][0]                   \n",
            "__________________________________________________________________________________________________\n",
            "conv2d_3 (Conv2D)               (None, 16, 16, 64)   36864       conv2d_2[0][0]                   \n",
            "__________________________________________________________________________________________________\n",
            "conv2d_4 (Conv2D)               (None, 8, 8, 32)     18432       conv2d_3[0][0]                   \n",
            "__________________________________________________________________________________________________\n",
            "flatten (Flatten)               (None, 2048)         0           conv2d_4[0][0]                   \n",
            "__________________________________________________________________________________________________\n",
            "z_mean (Dense)                  (None, 1000)         2049000     flatten[0][0]                    \n",
            "__________________________________________________________________________________________________\n",
            "z_log_var (Dense)               (None, 1000)         2049000     flatten[0][0]                    \n",
            "__________________________________________________________________________________________________\n",
            "sampling (Sampling)             (None, 1000)         0           z_mean[0][0]                     \n",
            "                                                                 z_log_var[0][0]                  \n",
            "==================================================================================================\n",
            "Total params: 4,209,456\n",
            "Trainable params: 4,209,456\n",
            "Non-trainable params: 0\n",
            "__________________________________________________________________________________________________\n",
            "Model: \"decoder\"\n",
            "_________________________________________________________________\n",
            "Layer (type)                 Output Shape              Param #   \n",
            "=================================================================\n",
            "input_2 (InputLayer)         [(None, 1000)]            0         \n",
            "_________________________________________________________________\n",
            "dense (Dense)                (None, 2048)              2050048   \n",
            "_________________________________________________________________\n",
            "reshape (Reshape)            (None, 8, 8, 32)          0         \n",
            "_________________________________________________________________\n",
            "conv2d_transpose (Conv2DTran (None, 16, 16, 32)        9248      \n",
            "_________________________________________________________________\n",
            "conv2d_transpose_1 (Conv2DTr (None, 32, 32, 64)        18496     \n",
            "_________________________________________________________________\n",
            "conv2d_transpose_2 (Conv2DTr (None, 64, 64, 64)        36928     \n",
            "_________________________________________________________________\n",
            "conv2d_transpose_3 (Conv2DTr (None, 128, 128, 64)      36928     \n",
            "_________________________________________________________________\n",
            "conv2d_transpose_4 (Conv2DTr (None, 256, 256, 32)      18464     \n",
            "_________________________________________________________________\n",
            "conv2d_transpose_5 (Conv2DTr (None, 256, 256, 3)       867       \n",
            "=================================================================\n",
            "Total params: 2,170,979\n",
            "Trainable params: 2,170,979\n",
            "Non-trainable params: 0\n",
            "_________________________________________________________________\n"
          ],
          "name": "stdout"
        }
      ]
    },
    {
      "cell_type": "code",
      "metadata": {
        "pycharm": {
          "name": "#%%\n"
        },
        "id": "3b4RhGWvulyE",
        "colab": {
          "base_uri": "https://localhost:8080/"
        },
        "outputId": "b054dc03-1ca6-4fb5-dc1a-01605c44a242"
      },
      "source": [
        "#data = getTrainingTensor(names,dim)\n",
        "#data = np.load(\"data_tensor.npy\")\n",
        "#np.save(\"../data/skyline_images/data_tensor.npy\",data)\n",
        "data = getImageGenerator(\"data/\",\"skyline_images\", dim, batchsize)"
      ],
      "execution_count": 8,
      "outputs": [
        {
          "output_type": "stream",
          "text": [
            "Found 123121 images belonging to 1 classes.\n"
          ],
          "name": "stdout"
        }
      ]
    },
    {
      "cell_type": "code",
      "metadata": {
        "pycharm": {
          "name": "#%%\n"
        },
        "id": "WlVzd-mkulyF",
        "colab": {
          "base_uri": "https://localhost:8080/"
        },
        "outputId": "1b73de1c-fb92-4d72-8988-8a50aaba09e9"
      },
      "source": [
        "if __name__ == \"__main__\":\n",
        "    vae.fit(data, epochs=epochs,batch_size=batchsize,)\n",
        "    vae.save_weights(\"skyline_vae_100_2\")\n",
        "\n",
        "\n",
        "\n",
        "\n"
      ],
      "execution_count": null,
      "outputs": [
        {
          "output_type": "stream",
          "text": [
            "Epoch 1/10\n",
            "  72/3848 [..............................] - ETA: 7:21 - loss: 43919.6950 - reconstruction_loss: 42382.8945 - kl_loss: 118.9572"
          ],
          "name": "stdout"
        }
      ]
    },
    {
      "cell_type": "code",
      "metadata": {
        "pycharm": {
          "name": "#%%\n"
        },
        "id": "a17BZ9uRulyF"
      },
      "source": [
        ""
      ],
      "execution_count": null,
      "outputs": []
    }
  ]
}