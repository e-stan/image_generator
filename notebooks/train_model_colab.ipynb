{
  "nbformat": 4,
  "nbformat_minor": 0,
  "metadata": {
    "kernelspec": {
      "display_name": "Python 3",
      "language": "python",
      "name": "python3"
    },
    "language_info": {
      "codemirror_mode": {
        "name": "ipython",
        "version": 2
      },
      "file_extension": ".py",
      "mimetype": "text/x-python",
      "name": "python",
      "nbconvert_exporter": "python",
      "pygments_lexer": "ipython2",
      "version": "2.7.6"
    },
    "colab": {
      "name": "train_model.ipynb",
      "provenance": []
    },
    "accelerator": "GPU"
  },
  "cells": [
    {
      "cell_type": "code",
      "metadata": {
        "collapsed": true,
        "id": "4gsyuWfCulx_"
      },
      "source": [
        ""
      ],
      "execution_count": null,
      "outputs": []
    },
    {
      "cell_type": "code",
      "metadata": {
        "pycharm": {
          "name": "#%%\n"
        },
        "id": "pIt2jy7KulyA"
      },
      "source": [
        "from dataset_helper import *\n",
        "from imageVAE import *\n",
        "import os\n",
        "import zipfile\n",
        "import matplotlib.pyplot as plt"
      ],
      "execution_count": 1,
      "outputs": []
    },
    {
      "cell_type": "code",
      "metadata": {
        "id": "PCinfWCoxi18"
      },
      "source": [
        "zipfile.ZipFile(\"data/skyline_images.zip\", 'r').extractall(\"data/\")"
      ],
      "execution_count": 3,
      "outputs": []
    },
    {
      "cell_type": "code",
      "metadata": {
        "pycharm": {
          "name": "#%%\n"
        },
        "id": "FhXFCUvHulyB"
      },
      "source": [
        "names = [\"data/skyline_images/\" + x for x in os.listdir(\"data/skyline_images/\") if \".jpg\" in x]\n",
        "#names = cleanImageFiles(names)"
      ],
      "execution_count": 2,
      "outputs": []
    },
    {
      "cell_type": "code",
      "metadata": {
        "pycharm": {
          "name": "#%%\n"
        },
        "id": "VeBTz5-lulyC"
      },
      "source": [
        "dim = (256,256,3)\n",
        "batchsize=32\n",
        "epochs = 5\n",
        "latentDim = 100\n",
        "stride = 2\n",
        "arch = [32,64,64]\n",
        "\n",
        "archRev = list(arch)\n",
        "archRev.reverse()\n"
      ],
      "execution_count": 3,
      "outputs": []
    },
    {
      "cell_type": "code",
      "metadata": {
        "pycharm": {
          "name": "#%%\n"
        },
        "id": "tnCTJAGfulyD",
        "colab": {
          "base_uri": "https://localhost:8080/"
        },
        "outputId": "066450bf-132b-4967-82b0-79c59bda874f"
      },
      "source": [
        "vae = ImageVAE(dim,arch,archRev,latent_dim=latentDim,stride=stride)\n",
        "\n",
        "vae.compile(optimizer=keras.optimizers.Adam(),run_eagerly=True)"
      ],
      "execution_count": 4,
      "outputs": [
        {
          "output_type": "stream",
          "text": [
            "(256, 256, 3)\n",
            "Model: \"encoder\"\n",
            "__________________________________________________________________________________________________\n",
            "Layer (type)                    Output Shape         Param #     Connected to                     \n",
            "==================================================================================================\n",
            "input_1 (InputLayer)            [(None, 256, 256, 3) 0                                            \n",
            "__________________________________________________________________________________________________\n",
            "conv2d (Conv2D)                 (None, 128, 128, 32) 864         input_1[0][0]                    \n",
            "__________________________________________________________________________________________________\n",
            "conv2d_1 (Conv2D)               (None, 64, 64, 64)   18432       conv2d[0][0]                     \n",
            "__________________________________________________________________________________________________\n",
            "conv2d_2 (Conv2D)               (None, 32, 32, 64)   36864       conv2d_1[0][0]                   \n",
            "__________________________________________________________________________________________________\n",
            "flatten (Flatten)               (None, 65536)        0           conv2d_2[0][0]                   \n",
            "__________________________________________________________________________________________________\n",
            "z_mean (Dense)                  (None, 100)          6553700     flatten[0][0]                    \n",
            "__________________________________________________________________________________________________\n",
            "z_log_var (Dense)               (None, 100)          6553700     flatten[0][0]                    \n",
            "__________________________________________________________________________________________________\n",
            "sampling (Sampling)             (None, 100)          0           z_mean[0][0]                     \n",
            "                                                                 z_log_var[0][0]                  \n",
            "==================================================================================================\n",
            "Total params: 13,163,560\n",
            "Trainable params: 13,163,560\n",
            "Non-trainable params: 0\n",
            "__________________________________________________________________________________________________\n",
            "Model: \"decoder\"\n",
            "_________________________________________________________________\n",
            "Layer (type)                 Output Shape              Param #   \n",
            "=================================================================\n",
            "input_2 (InputLayer)         [(None, 100)]             0         \n",
            "_________________________________________________________________\n",
            "dense (Dense)                (None, 65536)             6619136   \n",
            "_________________________________________________________________\n",
            "reshape (Reshape)            (None, 32, 32, 64)        0         \n",
            "_________________________________________________________________\n",
            "conv2d_transpose (Conv2DTran (None, 64, 64, 64)        36928     \n",
            "_________________________________________________________________\n",
            "conv2d_transpose_1 (Conv2DTr (None, 128, 128, 64)      36928     \n",
            "_________________________________________________________________\n",
            "conv2d_transpose_2 (Conv2DTr (None, 256, 256, 32)      18464     \n",
            "_________________________________________________________________\n",
            "conv2d_transpose_3 (Conv2DTr (None, 256, 256, 3)       867       \n",
            "=================================================================\n",
            "Total params: 6,712,323\n",
            "Trainable params: 6,712,323\n",
            "Non-trainable params: 0\n",
            "_________________________________________________________________\n"
          ],
          "name": "stdout"
        }
      ]
    },
    {
      "cell_type": "code",
      "metadata": {
        "pycharm": {
          "name": "#%%\n"
        },
        "id": "3b4RhGWvulyE",
        "outputId": "ca4fe9b7-d316-4ffa-8c61-5b049c57ca19",
        "colab": {
          "base_uri": "https://localhost:8080/"
        }
      },
      "source": [
        "#data = getTrainingTensor(names,dim)\n",
        "#data = np.load(\"data_tensor.npy\")\n",
        "#np.save(\"../data/skyline_images/data_tensor.npy\",data)\n",
        "data = getImageGenerator(\"data/\",\"skyline_images\", dim, batchsize)"
      ],
      "execution_count": 5,
      "outputs": [
        {
          "output_type": "stream",
          "text": [
            "Found 123120 images belonging to 1 classes.\n"
          ],
          "name": "stdout"
        }
      ]
    },
    {
      "cell_type": "code",
      "metadata": {
        "pycharm": {
          "name": "#%%\n"
        },
        "id": "WlVzd-mkulyF",
        "colab": {
          "base_uri": "https://localhost:8080/"
        },
        "outputId": "351b729c-7375-4745-dcad-ddd43e7ad3b0"
      },
      "source": [
        "if __name__ == \"__main__\":\n",
        "    vae.fit(data, epochs=epochs,batch_size=batchsize,)\n",
        "    vae.save_weights(\"skyline_vae_100_2\")\n",
        "\n",
        "\n",
        "\n",
        "\n"
      ],
      "execution_count": null,
      "outputs": [
        {
          "output_type": "stream",
          "text": [
            "Epoch 1/5\n",
            " 564/3848 [===>..........................] - ETA: 9:33 - loss: 40923.1711 - reconstruction_loss: 38537.1055 - kl_loss: 141.5198"
          ],
          "name": "stdout"
        }
      ]
    },
    {
      "cell_type": "code",
      "metadata": {
        "pycharm": {
          "name": "#%%\n"
        },
        "id": "a17BZ9uRulyF"
      },
      "source": [
        ""
      ],
      "execution_count": null,
      "outputs": []
    }
  ]
}