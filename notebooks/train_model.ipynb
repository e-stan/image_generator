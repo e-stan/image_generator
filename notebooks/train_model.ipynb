{
  "nbformat": 4,
  "nbformat_minor": 0,
  "metadata": {
    "accelerator": "GPU",
    "colab": {
      "name": "train_model.ipynb",
      "provenance": [],
      "include_colab_link": true
    },
    "kernelspec": {
      "display_name": "Python 3",
      "language": "python",
      "name": "python3"
    },
    "language_info": {
      "codemirror_mode": {
        "name": "ipython",
        "version": 2
      },
      "file_extension": ".py",
      "mimetype": "text/x-python",
      "name": "python",
      "nbconvert_exporter": "python",
      "pygments_lexer": "ipython2",
      "version": "2.7.6"
    }
  },
  "cells": [
    {
      "cell_type": "markdown",
      "metadata": {
        "id": "view-in-github",
        "colab_type": "text"
      },
      "source": [
        "<a href=\"https://colab.research.google.com/github/e-stan/image_generator/blob/master/notebooks/train_model.ipynb\" target=\"_parent\"><img src=\"https://colab.research.google.com/assets/colab-badge.svg\" alt=\"Open In Colab\"/></a>"
      ]
    },
    {
      "cell_type": "code",
      "metadata": {
        "collapsed": true,
        "id": "4gsyuWfCulx_"
      },
      "source": [
        ""
      ],
      "execution_count": null,
      "outputs": []
    },
    {
      "cell_type": "code",
      "metadata": {
        "colab": {
          "base_uri": "https://localhost:8080/"
        },
        "id": "UH6Pt9Y9jbIz",
        "outputId": "5911c1a0-5984-49fe-f432-283614927290"
      },
      "source": [
        "from google.colab import drive\n",
        "drive.mount('/content/drive')"
      ],
      "execution_count": 1,
      "outputs": [
        {
          "output_type": "stream",
          "text": [
            "Mounted at /content/drive\n"
          ],
          "name": "stdout"
        }
      ]
    },
    {
      "cell_type": "code",
      "metadata": {
        "id": "pIt2jy7KulyA"
      },
      "source": [
        "from dataset_helper import *\n",
        "from imageVAE import *\n",
        "import os\n",
        "import zipfile\n",
        "import matplotlib.pyplot as plt"
      ],
      "execution_count": 2,
      "outputs": []
    },
    {
      "cell_type": "code",
      "metadata": {
        "id": "PCinfWCoxi18"
      },
      "source": [
        "zipfile.ZipFile(\"/content/drive/MyDrive/artdive/data/skyline_images.zip\", 'r').extractall(\"data/\")"
      ],
      "execution_count": 3,
      "outputs": []
    },
    {
      "cell_type": "code",
      "metadata": {
        "id": "FhXFCUvHulyB"
      },
      "source": [
        "names = [\"data/skyline_images/\" + x for x in os.listdir(\"data/skyline_images/\") if \".jpg\" in x]\n",
        "#names = cleanImageFiles(names)"
      ],
      "execution_count": 4,
      "outputs": []
    },
    {
      "cell_type": "code",
      "metadata": {
        "id": "VeBTz5-lulyC"
      },
      "source": [
        "dim = (256,256,3)\n",
        "batchsize=32\n",
        "epochs = 10\n",
        "latentDim = 1000\n",
        "stride = 2\n",
        "arch = [64,128,128,128,128]\n",
        "\n",
        "archRev = list(arch)\n",
        "archRev.reverse()\n"
      ],
      "execution_count": 6,
      "outputs": []
    },
    {
      "cell_type": "code",
      "metadata": {
        "colab": {
          "base_uri": "https://localhost:8080/"
        },
        "id": "tnCTJAGfulyD",
        "outputId": "a983a7ec-bca1-400a-82a5-7e13f01c3401"
      },
      "source": [
        "vae = ImageVAE(dim,arch,archRev,latent_dim=latentDim,stride=stride)\n",
        "\n",
        "vae.compile(optimizer=keras.optimizers.Adam(),run_eagerly=True)"
      ],
      "execution_count": 7,
      "outputs": [
        {
          "output_type": "stream",
          "text": [
            "(256, 256, 3)\n",
            "Model: \"encoder\"\n",
            "__________________________________________________________________________________________________\n",
            "Layer (type)                    Output Shape         Param #     Connected to                     \n",
            "==================================================================================================\n",
            "input_1 (InputLayer)            [(None, 256, 256, 3) 0                                            \n",
            "__________________________________________________________________________________________________\n",
            "conv2d (Conv2D)                 (None, 128, 128, 64) 1728        input_1[0][0]                    \n",
            "__________________________________________________________________________________________________\n",
            "conv2d_1 (Conv2D)               (None, 64, 64, 128)  73728       conv2d[0][0]                     \n",
            "__________________________________________________________________________________________________\n",
            "conv2d_2 (Conv2D)               (None, 32, 32, 128)  147456      conv2d_1[0][0]                   \n",
            "__________________________________________________________________________________________________\n",
            "conv2d_3 (Conv2D)               (None, 16, 16, 128)  147456      conv2d_2[0][0]                   \n",
            "__________________________________________________________________________________________________\n",
            "conv2d_4 (Conv2D)               (None, 8, 8, 128)    147456      conv2d_3[0][0]                   \n",
            "__________________________________________________________________________________________________\n",
            "flatten (Flatten)               (None, 8192)         0           conv2d_4[0][0]                   \n",
            "__________________________________________________________________________________________________\n",
            "z_mean (Dense)                  (None, 1000)         8193000     flatten[0][0]                    \n",
            "__________________________________________________________________________________________________\n",
            "z_log_var (Dense)               (None, 1000)         8193000     flatten[0][0]                    \n",
            "__________________________________________________________________________________________________\n",
            "sampling (Sampling)             (None, 1000)         0           z_mean[0][0]                     \n",
            "                                                                 z_log_var[0][0]                  \n",
            "==================================================================================================\n",
            "Total params: 16,903,824\n",
            "Trainable params: 16,903,824\n",
            "Non-trainable params: 0\n",
            "__________________________________________________________________________________________________\n",
            "Model: \"decoder\"\n",
            "_________________________________________________________________\n",
            "Layer (type)                 Output Shape              Param #   \n",
            "=================================================================\n",
            "input_2 (InputLayer)         [(None, 1000)]            0         \n",
            "_________________________________________________________________\n",
            "dense (Dense)                (None, 8192)              8200192   \n",
            "_________________________________________________________________\n",
            "reshape (Reshape)            (None, 8, 8, 128)         0         \n",
            "_________________________________________________________________\n",
            "conv2d_transpose (Conv2DTran (None, 16, 16, 128)       147584    \n",
            "_________________________________________________________________\n",
            "conv2d_transpose_1 (Conv2DTr (None, 32, 32, 128)       147584    \n",
            "_________________________________________________________________\n",
            "conv2d_transpose_2 (Conv2DTr (None, 64, 64, 128)       147584    \n",
            "_________________________________________________________________\n",
            "conv2d_transpose_3 (Conv2DTr (None, 128, 128, 128)     147584    \n",
            "_________________________________________________________________\n",
            "conv2d_transpose_4 (Conv2DTr (None, 256, 256, 64)      73792     \n",
            "_________________________________________________________________\n",
            "conv2d_transpose_5 (Conv2DTr (None, 256, 256, 3)       1731      \n",
            "=================================================================\n",
            "Total params: 8,866,051\n",
            "Trainable params: 8,866,051\n",
            "Non-trainable params: 0\n",
            "_________________________________________________________________\n"
          ],
          "name": "stdout"
        }
      ]
    },
    {
      "cell_type": "code",
      "metadata": {
        "colab": {
          "base_uri": "https://localhost:8080/"
        },
        "id": "3b4RhGWvulyE",
        "outputId": "bffe7950-18f8-4e0f-8038-adfea580172c"
      },
      "source": [
        "#data = getTrainingTensor(names,dim)\n",
        "#data = np.load(\"data_tensor.npy\")\n",
        "#np.save(\"../data/skyline_images/data_tensor.npy\",data)\n",
        "data = getImageGenerator(\"data/\",\"skyline_images\", dim, batchsize)"
      ],
      "execution_count": 8,
      "outputs": [
        {
          "output_type": "stream",
          "text": [
            "Found 123121 images belonging to 1 classes.\n"
          ],
          "name": "stdout"
        }
      ]
    },
    {
      "cell_type": "code",
      "metadata": {
        "colab": {
          "base_uri": "https://localhost:8080/"
        },
        "id": "WlVzd-mkulyF",
        "outputId": "7f1da14b-fcfc-4fe1-fbc7-3521e4b062ab"
      },
      "source": [
        "if __name__ == \"__main__\":\n",
        "    vae.fit(data, epochs=epochs,batch_size=batchsize,)\n",
        "    vae.save_weights(\"/content/drive/MyDrive/artdive/models/skyline_vae_100_3\")\n",
        "\n",
        "\n",
        "\n",
        "\n"
      ],
      "execution_count": 9,
      "outputs": [
        {
          "output_type": "stream",
          "text": [
            "Epoch 1/10\n",
            "3848/3848 [==============================] - 819s 213ms/step - loss: 38006.9699 - reconstruction_loss: 36252.9219 - kl_loss: 274.5088\n",
            "Epoch 2/10\n",
            "3848/3848 [==============================] - 817s 212ms/step - loss: 34920.0122 - reconstruction_loss: 34497.7031 - kl_loss: 336.7953\n",
            "Epoch 3/10\n",
            "3848/3848 [==============================] - 819s 213ms/step - loss: 34629.0707 - reconstruction_loss: 34251.1680 - kl_loss: 334.8643\n",
            "Epoch 4/10\n",
            "3848/3848 [==============================] - 817s 212ms/step - loss: 34459.9978 - reconstruction_loss: 34122.7344 - kl_loss: 336.9578\n",
            "Epoch 5/10\n",
            "3848/3848 [==============================] - 818s 213ms/step - loss: 34399.2829 - reconstruction_loss: 34036.3008 - kl_loss: 341.8432\n",
            "Epoch 6/10\n",
            "3848/3848 [==============================] - 819s 213ms/step - loss: 34382.4847 - reconstruction_loss: 33975.4297 - kl_loss: 347.2521\n",
            "Epoch 7/10\n",
            "3848/3848 [==============================] - 820s 213ms/step - loss: 34260.4293 - reconstruction_loss: 33924.0859 - kl_loss: 350.6037\n",
            "Epoch 8/10\n",
            "3848/3848 [==============================] - 818s 213ms/step - loss: 34216.4366 - reconstruction_loss: 33882.4453 - kl_loss: 353.6032\n",
            "Epoch 9/10\n",
            "3848/3848 [==============================] - 818s 212ms/step - loss: 34204.9209 - reconstruction_loss: 33839.1484 - kl_loss: 356.8443\n",
            "Epoch 10/10\n",
            "3848/3848 [==============================] - 817s 212ms/step - loss: 34187.6851 - reconstruction_loss: 33813.6719 - kl_loss: 358.8584\n"
          ],
          "name": "stdout"
        }
      ]
    },
    {
      "cell_type": "code",
      "metadata": {
        "id": "a17BZ9uRulyF"
      },
      "source": [
        ""
      ],
      "execution_count": null,
      "outputs": []
    }
  ]
}